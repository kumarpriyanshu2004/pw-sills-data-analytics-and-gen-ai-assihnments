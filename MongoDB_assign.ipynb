{
  "nbformat": 4,
  "nbformat_minor": 0,
  "metadata": {
    "colab": {
      "provenance": []
    },
    "kernelspec": {
      "name": "python3",
      "display_name": "Python 3"
    },
    "language_info": {
      "name": "python"
    }
  },
  "cells": [
    {
      "cell_type": "markdown",
      "source": [
        "1. Key Differences Between SQL and NoSQL Databases\n",
        "\n",
        "Data Model: SQL uses structured tables with predefined schemas; NoSQL stores data in flexible formats (document, key-value, graph, columnar).\n",
        "\n",
        "Scalability: SQL is usually vertically scalable; NoSQL supports horizontal scaling.\n",
        "\n",
        "Schema: SQL requires fixed schema; NoSQL is schema-less or schema-flexible.\n",
        "\n",
        "Transactions: SQL follows strict ACID compliance; NoSQL often prioritizes availability and scalability (BASE model), though modern NoSQL (like MongoDB) supports ACID transactions.\n",
        "\n",
        "Query Language: SQL uses SQL syntax; NoSQL uses database-specific query APIs (e.g., MongoDB Query Language - MQL).\n",
        "\n",
        "2. Why MongoDB Is a Good Choice for Modern Applications\n",
        "\n",
        "Flexible schema for evolving data structures.\n",
        "\n",
        "Horizontal scalability with sharding.\n",
        "\n",
        "Built-in high availability via replication.\n",
        "\n",
        "Rich query language and powerful aggregation pipeline.\n",
        "\n",
        "Cloud-native integration (MongoDB Atlas).\n",
        "\n",
        "JSON-like BSON format integrates naturally with modern applications.\n",
        "\n",
        "3. Concept of Collections in MongoDB\n",
        "\n",
        "A collection is a group of MongoDB documents, similar to a table in SQL.\n",
        "\n",
        "Collections do not enforce a fixed schema, allowing documents to have varying fields.\n",
        "\n",
        "They store BSON (binary JSON) documents for efficient storage and retrieval.\n",
        "\n",
        "4. High Availability in MongoDB via Replication\n",
        "\n",
        "Achieved through Replica Sets — multiple copies of data across servers.\n",
        "\n",
        "One primary node handles writes, multiple secondary nodes replicate data.\n",
        "\n",
        "Automatic failover: if the primary fails, a secondary is promoted to primary.\n",
        "\n",
        "5. Benefits of MongoDB Atlas\n",
        "\n",
        "Fully managed cloud database.\n",
        "\n",
        "Automatic scaling (both storage and performance).\n",
        "\n",
        "Built-in backup and restore options.\n",
        "\n",
        "Global distribution and multi-region replication.\n",
        "\n",
        "Security features like encryption, IP whitelisting, and role-based access.\n",
        "\n",
        "6. Role of Indexes in MongoDB & Performance Improvement\n",
        "\n",
        "Purpose: Speed up data retrieval by avoiding full collection scans.\n",
        "\n",
        "Indexes store small, ordered subsets of data fields for faster searches.\n",
        "\n",
        "Common types: Single-field, compound, multikey, text, geospatial indexes.\n",
        "\n",
        "7. Stages of the MongoDB Aggregation Pipeline\n",
        "\n",
        "$match: Filters documents.\n",
        "\n",
        "$group: Groups data by specified keys.\n",
        "\n",
        "$project: Shapes the output documents.\n",
        "\n",
        "$sort: Orders documents.\n",
        "\n",
        "$limit / $skip: Controls pagination.\n",
        "\n",
        "$lookup: Performs joins between collections.\n",
        "\n",
        "$unwind: Deconstructs arrays into separate documents.\n",
        "\n",
        "8. Sharding in MongoDB & Difference from Replication\n",
        "\n",
        "Sharding: Splitting data across multiple servers (shards) for horizontal scaling.\n",
        "\n",
        "Replication: Copying data across multiple servers for high availability.\n",
        "\n",
        "Difference: Sharding distributes different parts of the dataset; replication duplicates the same dataset.\n",
        "\n",
        "9. What is PyMongo & Why Used\n",
        "\n",
        "Official Python driver for MongoDB.\n",
        "\n",
        "Allows Python applications to connect, query, and manage MongoDB databases.\n",
        "\n",
        "Supports CRUD operations, aggregation, and transactions.\n",
        "\n",
        "10. ACID Properties in MongoDB Transactions\n",
        "\n",
        "Atomicity: All operations in a transaction succeed or fail as a whole.\n",
        "\n",
        "Consistency: Transactions leave the database in a valid state.\n",
        "\n",
        "Isolation: Transactions are isolated from others until committed.\n",
        "\n",
        "Durability: Committed data is permanently stored.\n",
        "\n",
        "11. Purpose of MongoDB’s explain() Function\n",
        "\n",
        "Shows how MongoDB executes a query.\n",
        "\n",
        "Displays index usage, execution stages, and performance metrics.\n",
        "\n",
        "Helps in query optimization.\n",
        "\n",
        "12. Schema Validation in MongoDB\n",
        "\n",
        "Allows defining rules for document structure using JSON Schema.\n",
        "\n",
        "Can enforce data types, required fields, and value constraints.\n",
        "\n",
        "Prevents invalid data from being inserted/updated.\n",
        "\n",
        "13. Difference Between Primary and Secondary Nodes in Replica Sets\n",
        "\n",
        "Primary: Handles all write operations and reads (if allowed).\n",
        "\n",
        "Secondary: Copies data from primary, used for read scaling and failover.\n",
        "\n",
        "14. Security Mechanisms in MongoDB\n",
        "\n",
        "Authentication (SCRAM, LDAP, x.509).\n",
        "\n",
        "Authorization via role-based access control (RBAC).\n",
        "\n",
        "TLS/SSL for encrypted connections.\n",
        "\n",
        "Encryption at rest.\n",
        "\n",
        "IP whitelisting and network access controls.\n",
        "\n",
        "15. Embedded Documents & When to Use\n",
        "\n",
        "Storing related data inside a single document instead of separate collections.\n",
        "\n",
        "Ideal when data is frequently accessed together and has a 1:1 or 1:many relationship.\n",
        "\n",
        "Reduces need for joins, improves read performance.\n",
        "\n",
        "16. Purpose of $lookup Stage in Aggregation\n",
        "\n",
        "Performs a left outer join between two collections.\n",
        "\n",
        "Useful for combining related data without embedding.\n",
        "\n",
        "17. Common Use Cases for MongoDB\n",
        "\n",
        "Real-time analytics.\n",
        "\n",
        "Content management systems.\n",
        "\n",
        "IoT and sensor data storage.\n",
        "\n",
        "Catalog and inventory management.\n",
        "\n",
        "Social media applications.\n",
        "\n",
        "18. Advantages of MongoDB for Horizontal Scaling\n",
        "\n",
        "Built-in sharding support.\n",
        "\n",
        "Distributes data across servers, avoiding bottlenecks.\n",
        "\n",
        "Supports adding/removing nodes dynamically.\n",
        "\n",
        "19. How MongoDB Transactions Differ from SQL Transactions\n",
        "\n",
        "MongoDB’s transactions are multi-document and introduced in v4.0+.\n",
        "\n",
        "SQL transactions are table/row-based; MongoDB’s are document-based.\n",
        "\n",
        "MongoDB transactions have more network overhead due to distributed nature.\n",
        "\n",
        "20. Differences Between Capped Collections & Regular Collections\n",
        "\n",
        "Capped: Fixed size, FIFO document replacement, high write throughput.\n",
        "\n",
        "Regular: Unlimited growth, no automatic overwrite.\n",
        "\n",
        "21. Purpose of $match Stage in Aggregation Pipeline\n",
        "\n",
        "Filters documents at the start of the pipeline.\n",
        "\n",
        "Similar to SQL WHERE clause.\n",
        "\n",
        "22. Securing Access to MongoDB\n",
        "\n",
        "Enable authentication & role-based access.\n",
        "\n",
        "Use TLS/SSL.\n",
        "\n",
        "Restrict network access.\n",
        "\n",
        "Enable auditing.\n",
        "\n",
        "Use strong passwords and encryption at rest.\n",
        "\n",
        "23. MongoDB’s WiredTiger Storage Engine & Importance\n",
        "\n",
        "Default storage engine since MongoDB 3.2.\n",
        "\n",
        "Supports document-level concurrency control.\n",
        "\n",
        "Provides compression (snappy/zlib) for efficient storage.\n",
        "\n",
        "Better performance for reads/writes compared to older MMAPv1 engine."
      ],
      "metadata": {
        "id": "h309dysdmab3"
      }
    },
    {
      "cell_type": "code",
      "execution_count": null,
      "metadata": {
        "id": "0yEdq_vhmW6o"
      },
      "outputs": [],
      "source": [
        "#Write a Python script to load the Superstore dataset from a CSV file into MongoDB\n",
        "import pandas as pd\n",
        "from pymongo import MongoClient\n",
        "\n",
        "# MongoDB connection (Update if using a remote server)\n",
        "client = MongoClient(\"mongodb://localhost:27017/\")\n",
        "\n",
        "# Connect to the 'mongo' database and 'superstore_data' collection\n",
        "db = client[\"Mongo\"]\n",
        "collection = db[\"Superstore_Data\"]\n",
        "\n",
        "# Load CSV into Pandas DataFrame\n",
        "csv_file = \"superstore.csv\"  # Update with the correct path\n",
        "df = pd.read_csv(csv_file, encoding=\"ISO-8859-1\")\n",
        "\n",
        "# Convert DataFrame to a list of dictionaries\n",
        "data = df.to_dict(orient=\"records\")\n",
        "\n",
        "# Insert data into MongoDB\n",
        "if data:\n",
        "    collection.insert_many(data)\n",
        "    print(f\" Successfully inserted {len(data)} records into MongoDB!\")\n",
        "else:\n",
        "    print(\"No data found in CSV.\")\n",
        "\n",
        "# Verify insertion\n",
        "print(\"Sample Record from MongoDB:\")\n",
        "print(collection.find_one())"
      ]
    },
    {
      "cell_type": "code",
      "source": [
        "# Load CSV file\n",
        "df = pd.read_csv('superstore.csv',encoding=\"ISO-8859-1\")"
      ],
      "metadata": {
        "id": "awjyBz_MmcQJ"
      },
      "execution_count": null,
      "outputs": []
    },
    {
      "cell_type": "code",
      "source": [
        "# Connect to MongoDB\n",
        "client = MongoClient(\"mongodb://localhost:27017/\")\n",
        "db = client[\"SuperstoreDB\"]\n",
        "orders_collection = db[\"Orders\"]"
      ],
      "metadata": {
        "id": "bt1w1xo4mcMo"
      },
      "execution_count": null,
      "outputs": []
    },
    {
      "cell_type": "code",
      "source": [
        "# Insert data into MongoDB\n",
        "orders_collection.insert_many(df.to_dict(orient='records'))"
      ],
      "metadata": {
        "id": "dURTgnDymcJX"
      },
      "execution_count": null,
      "outputs": []
    },
    {
      "cell_type": "code",
      "source": [
        "# Retrieve and print all documents\n",
        "for order in orders_collection.find():\n",
        "    print(order)"
      ],
      "metadata": {
        "id": "DthilYjomcGc"
      },
      "execution_count": null,
      "outputs": []
    },
    {
      "cell_type": "code",
      "source": [
        "# Count and display the total number of documents\n",
        "total_orders = orders_collection.count_documents({})\n",
        "print(\"Total number of orders:\", total_orders)"
      ],
      "metadata": {
        "id": "4_vHWYIBmcDJ"
      },
      "execution_count": null,
      "outputs": []
    },
    {
      "cell_type": "code",
      "source": [
        "# Fetch all orders from the \"West\" region\n",
        "west_orders = orders_collection.find({\"Region\": \"West\"})\n",
        "for order in west_orders:\n",
        "    print(order)"
      ],
      "metadata": {
        "id": "i-lgVLlfmcAO"
      },
      "execution_count": null,
      "outputs": []
    },
    {
      "cell_type": "code",
      "source": [
        "# Find orders where Sales is greater than 500\n",
        "high_sales_orders = orders_collection.find({\"Sales\": {\"$gt\": 500}})\n",
        "for order in high_sales_orders:\n",
        "    print(order)"
      ],
      "metadata": {
        "id": "-WUQJOEGmb9N"
      },
      "execution_count": null,
      "outputs": []
    },
    {
      "cell_type": "code",
      "source": [
        "# Fetch the top 3 orders with the highest Profit\n",
        "top_profit_orders = orders_collection.find().sort(\"Profit\", -1).limit(3)\n",
        "for order in top_profit_orders:\n",
        "    print(order)"
      ],
      "metadata": {
        "id": "WlXKmLnOmq-1"
      },
      "execution_count": null,
      "outputs": []
    },
    {
      "cell_type": "code",
      "source": [
        "# Update all orders with Ship Mode as \"First Class\" to \"Premium Class\"\n",
        "orders_collection.update_many({\"Ship Mode\": \"First Class\"}, {\"$set\": {\"Ship Mode\": \"Premium Class\"}})\n"
      ],
      "metadata": {
        "id": "ysCDrjo9mq7c"
      },
      "execution_count": null,
      "outputs": []
    },
    {
      "cell_type": "code",
      "source": [
        "# Delete all orders where Sales is less than 50\n",
        "orders_collection.delete_many({\"Sales\": {\"$lt\": 50}})\n",
        "\n"
      ],
      "metadata": {
        "id": "2g_wTjHumq4j"
      },
      "execution_count": null,
      "outputs": []
    },
    {
      "cell_type": "code",
      "source": [
        "# Aggregation: Group orders by Region and calculate total sales per region\n",
        "total_sales_per_region = orders_collection.aggregate([\n",
        "    {\"$group\": {\"_id\": \"$Region\", \"TotalSales\": {\"$sum\": \"$Sales\"}}}\n",
        "])\n",
        "for region in total_sales_per_region:\n",
        "    print(region)"
      ],
      "metadata": {
        "id": "Zzyy4Fs1mw_t"
      },
      "execution_count": null,
      "outputs": []
    },
    {
      "cell_type": "code",
      "source": [
        "# Fetch all distinct values for Ship Mode\n",
        "distinct_ship_modes = orders_collection.distinct(\"Ship Mode\")\n",
        "print(\"Distinct Ship Modes:\", distinct_ship_modes)"
      ],
      "metadata": {
        "id": "nYP_epWBmw8T"
      },
      "execution_count": null,
      "outputs": []
    },
    {
      "cell_type": "code",
      "source": [
        "# Count the number of orders for each category\n",
        "orders_per_category = orders_collection.aggregate([\n",
        "    {\"$group\": {\"_id\": \"$Category\", \"TotalOrders\": {\"$sum\": 1}}}\n",
        "])\n",
        "for category in orders_per_category:\n",
        "    print(category)"
      ],
      "metadata": {
        "id": "S0nDkKgImw5C"
      },
      "execution_count": null,
      "outputs": []
    },
    {
      "cell_type": "code",
      "source": [
        "# Close the MongoDB connection\n",
        "client.close()"
      ],
      "metadata": {
        "id": "GMUJBU9Ymw18"
      },
      "execution_count": null,
      "outputs": []
    }
  ]
}